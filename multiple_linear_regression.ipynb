{
 "cells": [
  {
   "cell_type": "markdown",
   "metadata": {},
   "source": [
    "# Multiple Linear Regression"
   ]
  },
  {
   "cell_type": "markdown",
   "metadata": {},
   "source": [
    "#### Import Default Libraries"
   ]
  },
  {
   "cell_type": "code",
   "execution_count": 1,
   "metadata": {},
   "outputs": [],
   "source": [
    "import numpy as np\n",
    "import pandas as pd\n",
    "import matplotlib.pyplot as plt"
   ]
  },
  {
   "cell_type": "markdown",
   "metadata": {},
   "source": [
    "#### Data Preparation"
   ]
  },
  {
   "cell_type": "code",
   "execution_count": 2,
   "metadata": {},
   "outputs": [],
   "source": [
    "dataset = pd.read_csv('50_Startups.csv')    # Replace <file_path> with the file path of the dataset within the quotes."
   ]
  },
  {
   "cell_type": "code",
   "execution_count": 3,
   "metadata": {},
   "outputs": [],
   "source": [
    "# Extracting independent (X) and dependent (y) columns/fields/variables. You can experiment with different independent variables.\n",
    "X = dataset.iloc[:,:-1].values      # Independent variables (R&D, Admin, Marketing, State)\n",
    "y = dataset.iloc[:,-1].values       # Dependent variable (profit)\n",
    "# Reference for iloc: https://pandas.pydata.org/docs/reference/api/pandas.DataFrame.iloc.html"
   ]
  },
  {
   "cell_type": "code",
   "execution_count": 4,
   "metadata": {},
   "outputs": [],
   "source": [
    "# Encode categorical variable (state) into dummy variables (in the form of 1s & 0s) so that it can be used in mathematical formula of regression.\n",
    "from sklearn.compose import ColumnTransformer\n",
    "from sklearn.preprocessing import OneHotEncoder\n",
    "\n",
    "ct = ColumnTransformer(transformers=[('encoder',OneHotEncoder(),[3])], remainder='passthrough')\n",
    "X = np.array(ct.fit_transform(X))\n",
    "\n",
    "# There is a precaution that usually needs to be taken to avoid something called dummy variable trap.\n",
    "# Luckily, our class and methods from sklearn automatically takes care of it. Visit the link to learn more: https://www.learndatasci.com/glossary/dummy-variable-trap/\n",
    "# To know more about dummy variables or one hot encoding visit: https://www.shiksha.com/online-courses/articles/handling-categorical-variables-with-one-hot-encoding/"
   ]
  },
  {
   "cell_type": "code",
   "execution_count": 5,
   "metadata": {},
   "outputs": [],
   "source": [
    "# Splitting the dataset into training and test set\n",
    "from sklearn.model_selection import train_test_split\n",
    "\n",
    "X_train, X_test, y_train, y_test = train_test_split(X, y, test_size = 0.25, random_state = 0)"
   ]
  },
  {
   "cell_type": "markdown",
   "metadata": {},
   "source": [
    "#### Train the model"
   ]
  },
  {
   "cell_type": "code",
   "execution_count": 6,
   "metadata": {},
   "outputs": [],
   "source": [
    "from sklearn.linear_model import LinearRegression"
   ]
  },
  {
   "cell_type": "code",
   "execution_count": null,
   "metadata": {},
   "outputs": [],
   "source": [
    "# Training the Linear Regression model (named regressor here) on the training set\n",
    "regressor = LinearRegression()      # Define regressor as regression instance. The linear regression class works for multiple regression as well.\n",
    "regressor.fit(X_train, y_train)     # Train the model on training data of both independent and dependent data."
   ]
  },
  {
   "cell_type": "markdown",
   "metadata": {},
   "source": [
    "#### Predicting Results"
   ]
  },
  {
   "cell_type": "code",
   "execution_count": null,
   "metadata": {},
   "outputs": [],
   "source": [
    "# Function to predict profit based on input using our trained model (regressor)\n",
    "y_pred = regressor.predict(X_test)\n",
    "print(y_pred)\n",
    "# Simply, after learning from training data, the model tries to predict the dependent data (y_pred) from independent data (X_test)"
   ]
  },
  {
   "cell_type": "markdown",
   "metadata": {},
   "source": [
    "#### If you were able to run till here successfully, then machine learning part is complete. Let's visualize the model."
   ]
  },
  {
   "cell_type": "markdown",
   "metadata": {},
   "source": [
    "#### Visualization"
   ]
  },
  {
   "cell_type": "code",
   "execution_count": null,
   "metadata": {},
   "outputs": [],
   "source": [
    "# we have 5 variables so it's not possible to visualize and perceive 5 dimensional charts so we just utilize the predict output above to compare actual and predicted values.\n",
    "\n",
    "# But we can compare the predicted values to test values and see the error\n",
    "df = pd.DataFrame({\n",
    "    \"Predicted\": y_pred,\n",
    "    \"Test\":list(y_test),\n",
    "    \"Delta\": list(y_test)-y_pred,\n",
    "    \"Delta%\": ((list(y_test)-y_pred)/y_pred)*100\n",
    "    })\n",
    "df"
   ]
  }
 ],
 "metadata": {
  "kernelspec": {
   "display_name": "Python 3",
   "language": "python",
   "name": "python3"
  },
  "language_info": {
   "codemirror_mode": {
    "name": "ipython",
    "version": 3
   },
   "file_extension": ".py",
   "mimetype": "text/x-python",
   "name": "python",
   "nbconvert_exporter": "python",
   "pygments_lexer": "ipython3",
   "version": "3.12.1"
  }
 },
 "nbformat": 4,
 "nbformat_minor": 2
}
